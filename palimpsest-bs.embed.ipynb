{
 "cells": [
  {
   "cell_type": "markdown",
   "metadata": {},
   "source": [
    "# The Urban Fabric as Palimpsest\n",
    "\n",
    "Tracing Proposed Correction Plans in Basel\n",
    "\n",
    "Moritz Twente [![](data:image/png;base64,iVBORw0KGgoAAAANSUhEUgAAABAAAAAQCAYAAAAf8/9hAAAAGXRFWHRTb2Z0d2FyZQBBZG9iZSBJbWFnZVJlYWR5ccllPAAAA2ZpVFh0WE1MOmNvbS5hZG9iZS54bXAAAAAAADw/eHBhY2tldCBiZWdpbj0i77u/IiBpZD0iVzVNME1wQ2VoaUh6cmVTek5UY3prYzlkIj8+IDx4OnhtcG1ldGEgeG1sbnM6eD0iYWRvYmU6bnM6bWV0YS8iIHg6eG1wdGs9IkFkb2JlIFhNUCBDb3JlIDUuMC1jMDYwIDYxLjEzNDc3NywgMjAxMC8wMi8xMi0xNzozMjowMCAgICAgICAgIj4gPHJkZjpSREYgeG1sbnM6cmRmPSJodHRwOi8vd3d3LnczLm9yZy8xOTk5LzAyLzIyLXJkZi1zeW50YXgtbnMjIj4gPHJkZjpEZXNjcmlwdGlvbiByZGY6YWJvdXQ9IiIgeG1sbnM6eG1wTU09Imh0dHA6Ly9ucy5hZG9iZS5jb20veGFwLzEuMC9tbS8iIHhtbG5zOnN0UmVmPSJodHRwOi8vbnMuYWRvYmUuY29tL3hhcC8xLjAvc1R5cGUvUmVzb3VyY2VSZWYjIiB4bWxuczp4bXA9Imh0dHA6Ly9ucy5hZG9iZS5jb20veGFwLzEuMC8iIHhtcE1NOk9yaWdpbmFsRG9jdW1lbnRJRD0ieG1wLmRpZDo1N0NEMjA4MDI1MjA2ODExOTk0QzkzNTEzRjZEQTg1NyIgeG1wTU06RG9jdW1lbnRJRD0ieG1wLmRpZDozM0NDOEJGNEZGNTcxMUUxODdBOEVCODg2RjdCQ0QwOSIgeG1wTU06SW5zdGFuY2VJRD0ieG1wLmlpZDozM0NDOEJGM0ZGNTcxMUUxODdBOEVCODg2RjdCQ0QwOSIgeG1wOkNyZWF0b3JUb29sPSJBZG9iZSBQaG90b3Nob3AgQ1M1IE1hY2ludG9zaCI+IDx4bXBNTTpEZXJpdmVkRnJvbSBzdFJlZjppbnN0YW5jZUlEPSJ4bXAuaWlkOkZDN0YxMTc0MDcyMDY4MTE5NUZFRDc5MUM2MUUwNEREIiBzdFJlZjpkb2N1bWVudElEPSJ4bXAuZGlkOjU3Q0QyMDgwMjUyMDY4MTE5OTRDOTM1MTNGNkRBODU3Ii8+IDwvcmRmOkRlc2NyaXB0aW9uPiA8L3JkZjpSREY+IDwveDp4bXBtZXRhPiA8P3hwYWNrZXQgZW5kPSJyIj8+84NovQAAAR1JREFUeNpiZEADy85ZJgCpeCB2QJM6AMQLo4yOL0AWZETSqACk1gOxAQN+cAGIA4EGPQBxmJA0nwdpjjQ8xqArmczw5tMHXAaALDgP1QMxAGqzAAPxQACqh4ER6uf5MBlkm0X4EGayMfMw/Pr7Bd2gRBZogMFBrv01hisv5jLsv9nLAPIOMnjy8RDDyYctyAbFM2EJbRQw+aAWw/LzVgx7b+cwCHKqMhjJFCBLOzAR6+lXX84xnHjYyqAo5IUizkRCwIENQQckGSDGY4TVgAPEaraQr2a4/24bSuoExcJCfAEJihXkWDj3ZAKy9EJGaEo8T0QSxkjSwORsCAuDQCD+QILmD1A9kECEZgxDaEZhICIzGcIyEyOl2RkgwAAhkmC+eAm0TAAAAABJRU5ErkJggg==)](https://orcid.org/0009-0005-7187-9774) (University of Basel)  \n",
    "June 25, 2024\n",
    "\n",
    "Like most cities in Switzerland, present-day Basel was shaped particularly by urban planning decisions made between 1940 and 1970: With the underlying goal of modernization, new transport infrastructures were built to make cities more accessible to cars. To this end, several so-called ‘Korrektionspläne’ were drawn up for Basel that proposed the construction of automobile traffic axes through the Old Town. Overall, these plans were not fully executed, since urban planning that prioritized private cars was met with increasing criticism. Nevertheless, the planned road system left a mark and partial implementations can still be seen today. We use GIS to trace these fragments in the urban fabric. By reading the city structure as a palimpsest to expose the superimposition of temporal layers that each convey different sociopolitical ideas, we critically engage with narratives about the history of Basel.\n",
    "\n",
    "# The Urban Fabric as Palimpsest\n",
    "\n",
    "> **Warning**\n",
    ">\n",
    "> This document is a work in progress. Check back next week for more (any) content.\n",
    "\n",
    "… Manuscript to add …\n",
    "\n",
    "# Marktplatz 5: Introduction\n",
    "\n",
    "## Tramèrscher Abrissplan\n",
    "\n",
    "…\n",
    "\n",
    "## Correction Plans, Building Lines and Planning Regulations\n",
    "\n",
    "…\n",
    "\n",
    "# Rümelinsplatz: Talentlastungsstrasse\n",
    "\n",
    "…\n",
    "\n",
    "# Schneidergasse 18: Stadthaus\n",
    "\n",
    "…\n",
    "\n",
    "# Spiegelhof: Schuhmacherplan\n",
    "\n",
    "…\n",
    "\n",
    "# Petersgraben 20: Heritage Conservation\n",
    "\n",
    "…\n",
    "\n",
    "# Spitalstrasse: Unhappy Doctors\n",
    "\n",
    "…"
   ],
   "id": "e89d1a86-896d-474c-93a6-924f33798f3f"
  },
  {
   "cell_type": "code",
   "execution_count": null,
   "metadata": {
    "layout-align": "default"
   },
   "outputs": [
    {
     "output_type": "display_data",
     "metadata": {},
     "data": {
      "text/html": [
       "<pre class=\"mermaid mermaid-js\">flowchart LR\n",
       "    A[Federal Statistical Office] --&gt;|EGID| B(Building Footprint)\n",
       "    A2[Open Data Basel-Stadt] --&gt;|Geometries| B\n",
       "    B --&gt; C{QGIS Layer}\n",
       "    C --&gt;|EGID| D[Construction Year]\n",
       "    C --&gt;|EGID| E[Building Type]\n",
       "    C --&gt;|Geometries| F[Building Area]\n",
       "</pre>"
      ]
     }
    }
   ],
   "source": [],
   "id": "b0047110-5b5a-4b69-b052-45e50f455a5f"
  },
  {
   "cell_type": "markdown",
   "metadata": {},
   "source": [
    "# Feldbergstrasse: City-Wide Implementation?\n",
    "\n",
    "…\n",
    "\n",
    "## GIS Analysis\n",
    "\n",
    "…\n",
    "\n",
    "# Aeschenvorstadt 68: Last Man Standing\n",
    "\n",
    "…\n",
    "\n",
    "## Current Situation\n",
    "\n",
    "…\n",
    "\n",
    "# Nauentunnel/Heuwaage-Viadukt\n",
    "\n",
    "Life after the Correction Plans"
   ],
   "id": "f10e2d14-c8d2-44a2-ad70-07c602708108"
  }
 ],
 "nbformat": 4,
 "nbformat_minor": 5,
 "metadata": {}
}
